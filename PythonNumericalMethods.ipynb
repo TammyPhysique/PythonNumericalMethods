{
 "cells": [
  {
   "cell_type": "markdown",
   "id": "a78b1294-3dac-4a57-b0cb-7bebfbe87683",
   "metadata": {},
   "source": [
    "# Vectors\n",
    "The set Rn is the set of all n-tuples of real numbers. In set notation this is Rn={(x1,x2,x3,⋯,xn):x1,x2,x3,⋯,xn∈R}. For example, the set R3 represents the set of real triples, (x,y,z) coordinates, in three-dimensional space.\n",
    "\n",
    "A vector in Rn is an n-tuple, or point, in Rn. Vectors can be written horizontally (i.e., with the elements of the vector next to each other) in a row vector, or vertically (i.e., with the elements of the vector on top of each other) in a column vector. If the context of a vector is ambiguous, it usually means the vector is a column vector. The i-th element of a vector, v, is denoted by vi. The transpose of a column vector is a row vector of the same length, and the transpose of a row vector is a column vector. In mathematics, the transpose is denoted by a superscript T, or vT. The zero vector is the vector in Rn containing all zeros.\n",
    "\n",
    "The norm of a vector is a measure of its length. There are many ways of defining the length of a vector depending on the metric used (i.e., the distance formula chosen). The most common is called the L2 norm, which is computed according to the distance formula you are probably familiar with from grade school. The L2 norm of a vector v is denoted by ∥v∥2 and ∥v∥2=∑iv2i−−−−−√. This is sometimes also called Euclidian length and refers to the “physical” length of a vector in one-, two-, or three-dimensional space. The L1 norm, or “Manhattan Distance,” is computed as ∥v∥1=∑i|vi|, and is named after the grid-like road structure in New York City. In general, the p-norm, Lp, of a vector is ∥v∥p=(∑ivpi)−−−−−−√p. The L∞ norm is the p-norm, where p=∞. The L∞ norm is written as ||v||∞ and it is equal to the maximum absolute value in v."
   ]
  },
  {
   "cell_type": "markdown",
   "id": "c5dac81f-8a41-47e1-a1de-fb4a021b41ce",
   "metadata": {},
   "source": [
    "Create a row vector and column vector, and show the shape of the vectors."
   ]
  },
  {
   "cell_type": "code",
   "execution_count": 3,
   "id": "1ba8fe52-46b4-48ae-9dba-3b24ef52bb2e",
   "metadata": {},
   "outputs": [
    {
     "name": "stdout",
     "output_type": "stream",
     "text": [
      "(1, 5)\n",
      "(4, 1)\n"
     ]
    }
   ],
   "source": [
    "import numpy as np\n",
    "vector_row = np.array([[1, -5, 3, 2, 4]])\n",
    "vector_column = np.array([[1], \n",
    "                          [2], \n",
    "                          [3], \n",
    "                          [4]])\n",
    "print(vector_row.shape)\n",
    "print(vector_column.shape)"
   ]
  },
  {
   "cell_type": "markdown",
   "id": "be43c84a-b83e-46ae-95d2-74c1fa64d51b",
   "metadata": {},
   "source": [
    "Transpose the row vector we defined above into a column vector and calculate the L1, L2, and L∞ norm of it. Verify that the L∞ norm of a vector is equivalent to the maximum value of the elements in the vector."
   ]
  },
  {
   "cell_type": "code",
   "execution_count": 4,
   "id": "9eb4390d-d8f1-4dd4-a156-6f92ade7c715",
   "metadata": {},
   "outputs": [
    {
     "name": "stdout",
     "output_type": "stream",
     "text": [
      "[[ 1]\n",
      " [-5]\n",
      " [ 3]\n",
      " [ 2]\n",
      " [ 4]]\n",
      "L_1 is: 15.0\n",
      "L_2 is: 7.4\n",
      "L_inf is: 5.0\n"
     ]
    }
   ],
   "source": [
    "from numpy.linalg import norm\n",
    "new_vector = vector_row.T\n",
    "print(new_vector)\n",
    "norm_1 = norm(new_vector, 1)\n",
    "norm_2 = norm(new_vector, 2)\n",
    "norm_inf = norm(new_vector, np.inf)\n",
    "print('L_1 is: %.1f'%norm_1)\n",
    "print('L_2 is: %.1f'%norm_2)\n",
    "print('L_inf is: %.1f'%norm_inf)"
   ]
  },
  {
   "cell_type": "markdown",
   "id": "7c4782b4-0352-41df-9f48-e9c90b1ecfbe",
   "metadata": {},
   "source": [
    "Vector addition is defined as the pairwise addition of each of the elements of the added vectors. For example, if v and w are vectors in Rn, then u=v+w is defined as ui=vi+wi.\n",
    "\n",
    "Vector multiplication can be defined in several ways depending on the context. Scalar multiplication of a vector is the product of a vector and a scalar (i.e., a number in R). Scalar multiplication is defined as the product of each element of the vector by the scalar. More specifically, if α is a scalar and v is a vector, then u=αv is defined as ui=αvi. Note that this is exactly how Python implements scalar multiplication with a vector."
   ]
  },
  {
   "cell_type": "markdown",
   "id": "c94f3867-bd14-4672-8623-44c7e49fb17c",
   "metadata": {},
   "source": [
    "By vector addition, u=v+w is the vector with ui=vi+wi. By scalar multiplication of a vector, x=αu is the vector with xi=α(vi+wi). Since α,vi, and wi are scalars, multiplication distributes and xi=αvi+αwi. Therefore, a(v+w)=av+aw.\n",
    "\n",
    "The dot product of two vectors is the sum of the product of the respective elements in each vector and is denoted by ⋅, and v⋅w is read “v dot w.” Therefore for v and w ∈Rn,d=v⋅w is defined as d=∑ni=1viwi. The angle between two vectors, θ, is defined by the formula:\n",
    "\n",
    "v⋅w=∥v∥2∥w∥2cosθ\n",
    "The dot product is a measure of how similarly directed the two vectors are. For example, the vectors (1,1) and (2,2) are parallel. If you compute the angle between them using the dot product, you will find that θ=0. If the angle between the vectors, θ=π/2, then the vectors are said to be perpendicular or orthogonal, and the dot product is 0."
   ]
  },
  {
   "cell_type": "markdown",
   "id": "fb288bba-e3db-4414-8a51-e79018b27a41",
   "metadata": {},
   "source": [
    "Compute the angle between the vectors v=[10,9,3] and w=[2,5,12]."
   ]
  },
  {
   "cell_type": "code",
   "execution_count": 5,
   "id": "2c975a10-405c-4276-b106-742b8083460b",
   "metadata": {},
   "outputs": [
    {
     "name": "stdout",
     "output_type": "stream",
     "text": [
      "[[0.97992471]]\n"
     ]
    }
   ],
   "source": [
    "from numpy import arccos, dot\n",
    "\n",
    "v = np.array([[10, 9, 3]])\n",
    "w = np.array([[2, 5, 12]])\n",
    "theta = \\\n",
    "    arccos(dot(v, w.T)/(norm(v)*norm(w)))\n",
    "print(theta)"
   ]
  },
  {
   "cell_type": "markdown",
   "id": "318b0851-acbd-4484-9560-5c0a072e811c",
   "metadata": {},
   "source": [
    "Finally, the cross product between two vectors, v and w, is written v×w. It is defined by v×w=∥v∥2∥w∥2sin(θ)n, where θ is the angle between the v and w (which can be computed from the dot product) and n is a vector perpendicular to both v and w with unit length (i.e., the length is one). The geometric interpretation of the cross product is a vector perpendicular to both v and w with length equal to the area enclosed by the parallelogram created by the two vectors."
   ]
  },
  {
   "cell_type": "markdown",
   "id": "1390a0f5-11f1-461e-9c06-7bf949cbaa61",
   "metadata": {},
   "source": [
    "Given the vectors v=[0,2,0] and w=[3,0,0], use the Numpy function cross to compute the cross product of v and w."
   ]
  },
  {
   "cell_type": "code",
   "execution_count": 6,
   "id": "5ee1d469-06a1-47bb-bdc1-05e2c9faffad",
   "metadata": {},
   "outputs": [
    {
     "name": "stdout",
     "output_type": "stream",
     "text": [
      "[[ 0  0 -6]]\n"
     ]
    }
   ],
   "source": [
    "v = np.array([[0, 2, 0]])\n",
    "w = np.array([[3, 0, 0]])\n",
    "print(np.cross(v, w))"
   ]
  },
  {
   "cell_type": "markdown",
   "id": "7bfdcebb-8d8b-4078-9e2b-5a61cc1f12c1",
   "metadata": {},
   "source": [
    "Assuming that S is a set in which addition and scalar multiplication are defined, a linear combination of S is defined as $∑αisi,$\n",
    "\n",
    "where αi is any real number and si is the ith object in S. Sometimes the αi values are called the coefficients of si. Linear combinations can be used to describe numerous things. For example, a grocery bill can be written ∑cini, where ci is the cost of item i and ni is the number of item i purchased. Thus, the total cost is a linear combination of the items purchased.\n",
    "\n",
    "A set is called linearly independent if no object in the set can be written as a linear combination of the other objects in the set. For the purposes of this book, we will only consider the linear independence of a set of vectors. A set of vectors that is not linearly independent is linearly dependent."
   ]
  },
  {
   "cell_type": "markdown",
   "id": "88d1fdca-2c55-466c-bdaf-eace4926906b",
   "metadata": {},
   "source": [
    "Given the row vectors v=[0,3,2], w=[4,1,1], and u=[0,−2,0], write the vector x=[−8,−1,4] as a linear combination of v, w, and u."
   ]
  },
  {
   "cell_type": "code",
   "execution_count": 9,
   "id": "8983733d-8838-48d7-8489-b7ed74bef0a9",
   "metadata": {},
   "outputs": [
    {
     "name": "stdout",
     "output_type": "stream",
     "text": [
      "[[-8 -1  4]]\n"
     ]
    }
   ],
   "source": [
    "v = np.array([[0, 3, 2]])\n",
    "w = np.array([[4, 1, 1]])\n",
    "u = np.array([[0, -2, 0]])\n",
    "x = 3*v-2*w+4*u\n",
    "print(x)"
   ]
  },
  {
   "cell_type": "markdown",
   "id": "3c5f3b05-2241-4c3b-ac1f-05e8056680ef",
   "metadata": {},
   "source": [
    "Determine by inspection whether the following set of vectors is linearly independent: v=[1,1,0], w=[1,0,0], u=[0,0,1]."
   ]
  },
  {
   "cell_type": "code",
   "execution_count": 10,
   "id": "0b827ad1-46a3-4e4f-b00b-e6d55717f85e",
   "metadata": {},
   "outputs": [
    {
     "name": "stdout",
     "output_type": "stream",
     "text": [
      "[[1 3 4]]\n"
     ]
    }
   ],
   "source": [
    "v = np.array([[1, 1, 0]])\n",
    "w = np.array([[1, 0, 0]])\n",
    "u = np.array([[0, 0, 1]])\n",
    "x = 3*v-2*w+4*u\n",
    "print(x)"
   ]
  },
  {
   "cell_type": "markdown",
   "id": "cca5c4a4-190a-47ad-a019-08f90b849e8a",
   "metadata": {},
   "source": [
    "Clearly u is linearly independent from v and w because only u has a nonzero third element. The vectors v and w are also linearly independent because only v has a nonzero second element. Therefore, v,w, and u are linearly independent.\n",
    "\n"
   ]
  },
  {
   "cell_type": "markdown",
   "id": "fa4293c8-c504-47dc-85c4-c8a1dc83fa57",
   "metadata": {},
   "source": [
    "Matrices¶\n",
    "An m×n matrix is a rectangular table of numbers consisting of m rows and n columns. The norm of a matrix can be considered as a particular kind of vector norm, if we treat the m×n elements of M are the elements of an mn dimensional vector, then the p-norm of this vector can be write as:\n",
    "\n",
    "∥M∥p=(∑im∑jn|aij|p)−−−−−−−−−−−⎷p\n",
    "You can calculate the matrix norm using the same norm function in Numpy as that for vector.\n",
    "\n",
    "Matrix addition and scalar multiplication for matrices work the same way as for vectors. However, matrix multiplication between two matrices, P and Q, is defined when P is an m×p matrix and Q is a p×n matrix. The result of M=PQ is a matrix M that is m×n. The dimension with size p is called the inner matrix dimension, and the inner matrix dimensions must match (i.e., the number of columns in P and the number of rows in Q must be the same) for matrix multiplication to be defined. The dimensions m and n are called the outer matrix dimensions. Formally, if P is m×p and Q is p×n, then M=PQ is defined as\n",
    "\n",
    "Mij=∑k=1pPikQkj\n",
    "The product of two matrices P and Q in Python is achieved by using the dot method in Numpy. The transpose of a matrix is a reversal of its rows with its columns. The transpose is denoted by a superscript, T, such as MT is the transpose of matrix M. In Python, the method T for an Numpy array is used to get the transpose. For example, if M is a matrix, then M.T is its transpose.\n",
    "\n"
   ]
  },
  {
   "cell_type": "markdown",
   "id": "df43001f-0acc-4acc-9b45-9c8845b4c545",
   "metadata": {},
   "source": [
    "Let the Python matrices P=[[1,7],[2,3],[5,0]] and Q=[[2,6,3,1],[1,2,3,4]]. Compute the matrix product of P and Q. Show that the product of Q and P will produce an error."
   ]
  },
  {
   "cell_type": "code",
   "execution_count": 11,
   "id": "32d29263-8522-4dd4-af30-591db709f8bb",
   "metadata": {},
   "outputs": [
    {
     "name": "stdout",
     "output_type": "stream",
     "text": [
      "[[1 7]\n",
      " [2 3]\n",
      " [5 0]]\n",
      "[[2 6 3 1]\n",
      " [1 2 3 4]]\n",
      "[[ 9 20 24 29]\n",
      " [ 7 18 15 14]\n",
      " [10 30 15  5]]\n"
     ]
    },
    {
     "ename": "ValueError",
     "evalue": "shapes (2,4) and (3,2) not aligned: 4 (dim 1) != 3 (dim 0)",
     "output_type": "error",
     "traceback": [
      "\u001b[1;31m---------------------------------------------------------------------------\u001b[0m",
      "\u001b[1;31mValueError\u001b[0m                                Traceback (most recent call last)",
      "Input \u001b[1;32mIn [11]\u001b[0m, in \u001b[0;36m<cell line: 6>\u001b[1;34m()\u001b[0m\n\u001b[0;32m      4\u001b[0m \u001b[38;5;28mprint\u001b[39m(Q)\n\u001b[0;32m      5\u001b[0m \u001b[38;5;28mprint\u001b[39m(np\u001b[38;5;241m.\u001b[39mdot(P, Q))\n\u001b[1;32m----> 6\u001b[0m \u001b[43mnp\u001b[49m\u001b[38;5;241;43m.\u001b[39;49m\u001b[43mdot\u001b[49m\u001b[43m(\u001b[49m\u001b[43mQ\u001b[49m\u001b[43m,\u001b[49m\u001b[43m \u001b[49m\u001b[43mP\u001b[49m\u001b[43m)\u001b[49m\n",
      "File \u001b[1;32m<__array_function__ internals>:5\u001b[0m, in \u001b[0;36mdot\u001b[1;34m(*args, **kwargs)\u001b[0m\n",
      "\u001b[1;31mValueError\u001b[0m: shapes (2,4) and (3,2) not aligned: 4 (dim 1) != 3 (dim 0)"
     ]
    }
   ],
   "source": [
    "P = np.array([[1, 7], [2, 3], [5, 0]])\n",
    "Q = np.array([[2, 6, 3, 1], [1, 2, 3, 4]])\n",
    "print(P)\n",
    "print(Q)\n",
    "print(np.dot(P, Q))\n",
    "np.dot(Q, P)"
   ]
  },
  {
   "cell_type": "markdown",
   "id": "db89752e-a52d-4bc0-9a56-02ad697324a9",
   "metadata": {},
   "source": [
    "And here beneath a 2x2 matrix and 3x3 matrix with a correction to prevent a valueError."
   ]
  },
  {
   "cell_type": "code",
   "execution_count": 19,
   "id": "c8c0b05d-b77b-4cdc-89cf-b4d3e5369f9c",
   "metadata": {},
   "outputs": [
    {
     "name": "stdout",
     "output_type": "stream",
     "text": [
      "[[1 7]\n",
      " [2 3]\n",
      " [5 0]]\n",
      "[[2 6 3 1]\n",
      " [1 2 3 4]]\n",
      "[[ 9 20 24 29]\n",
      " [ 7 18 15 14]\n",
      " [10 30 15  5]]\n"
     ]
    }
   ],
   "source": [
    "P = np.array([[1, 7], [2, 3], [5, 0]])\n",
    "Q = np.array([[2, 6, 3, 1], [1, 2, 3, 4]])\n",
    "print(P)\n",
    "print(Q)\n",
    "print(np.dot(P, Q))"
   ]
  },
  {
   "cell_type": "markdown",
   "id": "85a07077-7737-4e94-aa05-10fdf54128eb",
   "metadata": {},
   "source": [
    "A square matrix is an n×n matrix; that is, it has the same number of rows as columns. The determinant is an important property of square matrices. The determinant is denoted by det(M), both in mathematics and in Numpy’s linalg package, sometimes it is also denoted as |M|. Some examples in the uses of a determinant will be described later.\n",
    "\n",
    "In the case of a 2×2 matrix, the determinant is:\n",
    "\n",
    "|M|=[acbd]=ad−bc\n",
    "Similarly, in the case of a 3×3 matrix, the determinant is:\n",
    "\n",
    "|M|=⎡⎣⎢adgbehcfi⎤⎦⎥===a⎡⎣⎢□□□□eh□fi⎤⎦⎥−b⎡⎣⎢□dg□□□□fi⎤⎦⎥+c⎡⎣⎢□dg□eh□□□⎤⎦⎥a[ehfi]−b[dgfi]+c[dgeh]aei+bfg+cdh−ceg−bdi−afh\n",
    "We can use similar approach to calculate the determinant for higher the dimension of the matrix, but it is much easier to calculate using Python. We will see an example below how to calculate the determinant in Python.\n",
    "\n",
    "The identity matrix is a square matrix with ones on the diagonal and zeros elsewhere. The identity matrix is usually denoted by I, and is analagous to the real number identity, 1. That is, multiplying any matrix by I (of compatible size) will produce the same matrix."
   ]
  },
  {
   "cell_type": "markdown",
   "id": "c2165eae-0d56-4a7f-9839-1b4b164ee9cc",
   "metadata": {},
   "source": [
    "Use Python to find the determinant of the matrix M=[[0,2,1,3],[3,2,8,1],[1,0,0,3],[0,3,2,1]]. Use the np.eye function to produce a 4×4 identity matrix, I. Multiply M by I to show that the result is M."
   ]
  },
  {
   "cell_type": "markdown",
   "id": "75865725-a7d2-49d0-8a00-3f9a97ec68df",
   "metadata": {},
   "source": [
    "from numpy.linalg import det\n",
    "\n",
    "M = np.array([[0,2,1,3], \n",
    "             [3,2,8,1], \n",
    "             [1,0,0,3],\n",
    "             [0,3,2,1]])\n",
    "print('M:\\n', M)\n",
    "\n",
    "print('Determinant: %.1f'%det(M))\n",
    "I = np.eye(4)\n",
    "print('I:\\n', I)\n",
    "print('M*I:\\n', np.dot(M, I))"
   ]
  },
  {
   "cell_type": "markdown",
   "id": "12a8a583-19a2-41ec-b6bf-3756edaa8910",
   "metadata": {},
   "source": [
    "A square matrix is an n×n matrix; that is, it has the same number of rows as columns. The determinant is an important property of square matrices. The determinant is denoted by det(M), both in mathematics and in Numpy’s linalg package, sometimes it is also denoted as |M|. Some examples in the uses of a determinant will be described later.\n",
    "\n",
    "In the case of a 2×2 matrix, the determinant is:\n",
    "\n",
    "|M|=[acbd]=ad−bc\n",
    "Similarly, in the case of a 3×3 matrix, the determinant is:\n",
    "\n",
    "|M|=⎡⎣⎢adgbehcfi⎤⎦⎥===a⎡⎣⎢□□□□eh□fi⎤⎦⎥−b⎡⎣⎢□dg□□□□fi⎤⎦⎥+c⎡⎣⎢□dg□eh□□□⎤⎦⎥a[ehfi]−b[dgfi]+c[dgeh]aei+bfg+cdh−ceg−bdi−afh\n",
    "We can use similar approach to calculate the determinant for higher the dimension of the matrix, but it is much easier to calculate using Python. We will see an example below how to calculate the determinant in Python.\n",
    "\n",
    "The identity matrix is a square matrix with ones on the diagonal and zeros elsewhere. The identity matrix is usually denoted by I, and is analagous to the real number identity, 1. That is, multiplying any matrix by I (of compatible size) will produce the same matrix."
   ]
  },
  {
   "cell_type": "markdown",
   "id": "475ce873-6026-43c9-a337-124b7edf9c14",
   "metadata": {},
   "source": [
    "Use Python to find the determinant of the matrix M=[[0,2,1,3],[3,2,8,1],[1,0,0,3],[0,3,2,1]]. Use the np.eye function to produce a 4×4 identity matrix, I. Multiply M by I to show that the result is M."
   ]
  },
  {
   "cell_type": "code",
   "execution_count": 22,
   "id": "d24cfe63-9d16-4638-b9a4-c5e4361d4010",
   "metadata": {},
   "outputs": [
    {
     "name": "stdout",
     "output_type": "stream",
     "text": [
      "M:\n",
      " [[0 2 1 3]\n",
      " [3 2 8 1]\n",
      " [1 0 0 3]\n",
      " [0 3 2 1]]\n",
      "Determinant: -38.0\n",
      "I:\n",
      " [[1. 0. 0. 0.]\n",
      " [0. 1. 0. 0.]\n",
      " [0. 0. 1. 0.]\n",
      " [0. 0. 0. 1.]]\n",
      "M*I:\n",
      " [[0. 2. 1. 3.]\n",
      " [3. 2. 8. 1.]\n",
      " [1. 0. 0. 3.]\n",
      " [0. 3. 2. 1.]]\n"
     ]
    }
   ],
   "source": [
    "from numpy.linalg import det\n",
    "\n",
    "M = np.array([[0,2,1,3], \n",
    "             [3,2,8,1], \n",
    "             [1,0,0,3],\n",
    "             [0,3,2,1]])\n",
    "print('M:\\n', M)\n",
    "\n",
    "print('Determinant: %.1f'%det(M))\n",
    "I = np.eye(4)\n",
    "print('I:\\n', I)\n",
    "print('M*I:\\n', np.dot(M, I))"
   ]
  },
  {
   "cell_type": "markdown",
   "id": "3f911bc4-66d4-4573-b95c-49dfeda66295",
   "metadata": {},
   "source": [
    "The inverse of a square matrix M is a matrix of the same size, N, such that M⋅N=I. The inverse of a matrix is analagous to the inverse of real numbers. For example, the inverse of 3 is 13 because (3)(13)=1. A matrix is said to be invertible if it has an inverse. The inverse of a matrix is unique; that is, for an invertible matrix, there is only one inverse for that matrix. If M is a square matrix, its inverse is denoted by M−1 in mathematics, and it can be computed in Python using the function inv from Numpy’s linalg package.\n",
    "\n",
    "For a 2×2 matrix, the analytic solution of the matrix inverse is:\n",
    "\n",
    "M−1=[acbd]−1=1|M|[d−c−ba]\n",
    "The calculation of the matrix inverse for the analytic solution becomes complicated with increasing matrix dimension, there are many other methods can make things easier, such as Gaussian elimination, Newton’s method, Eigendecomposition and so on. We will introduce some of these methods after we learn how to solve a system of linear equations, because the process is essentially the same.\n",
    "\n",
    "Recall that 0 has no inverse for multiplication in the real-numbers setting. Similarly, there are matrices that do not have inverses. These matrices are called singular. Matrices that do have an inverse are called nonsingular.\n",
    "\n",
    "One way to determine if a matrix is singular is by computing its determinant. If the determinant is 0, then the matrix is singular; if not, the matrix is nonsingular."
   ]
  },
  {
   "cell_type": "markdown",
   "id": "7f9311f8-b551-4817-872a-d85b6dcfc9b4",
   "metadata": {},
   "source": [
    "The matrix M (in the previous example) has a nonzero determinant. Compute the inverse of M. Show that the matrix P=[[0,1,0],[0,0,0],[1,0,1]] has a determinant value of 0 and therefore has no inverse."
   ]
  },
  {
   "cell_type": "code",
   "execution_count": 23,
   "id": "5fe64137-9083-4680-8113-8a57a2783857",
   "metadata": {},
   "outputs": [
    {
     "name": "stdout",
     "output_type": "stream",
     "text": [
      "Inv M:\n",
      " [[-1.57894737 -0.07894737  1.23684211  1.10526316]\n",
      " [-0.63157895 -0.13157895  0.39473684  0.84210526]\n",
      " [ 0.68421053  0.18421053 -0.55263158 -0.57894737]\n",
      " [ 0.52631579  0.02631579 -0.07894737 -0.36842105]]\n",
      "det(p):\n",
      " 0.0\n"
     ]
    }
   ],
   "source": [
    "from numpy.linalg import inv\n",
    "\n",
    "print('Inv M:\\n', inv(M))\n",
    "P = np.array([[0,1,0],\n",
    "              [0,0,0],\n",
    "              [1,0,1]])\n",
    "print('det(p):\\n', det(P))"
   ]
  },
  {
   "cell_type": "markdown",
   "id": "76f2bfc0-fe47-4ce8-aabf-d6c6fce9b0be",
   "metadata": {},
   "source": [
    "The inverse of a square matrix M is a matrix of the same size, N, such that M⋅N=I. The inverse of a matrix is analagous to the inverse of real numbers. For example, the inverse of 3 is 13 because (3)(13)=1. A matrix is said to be invertible if it has an inverse. The inverse of a matrix is unique; that is, for an invertible matrix, there is only one inverse for that matrix. If M is a square matrix, its inverse is denoted by M−1 in mathematics, and it can be computed in Python using the function inv from Numpy’s linalg package.\n",
    "\n",
    "For a 2×2 matrix, the analytic solution of the matrix inverse is:\n",
    "\n",
    "M−1=[acbd]−1=1|M|[d−c−ba]\n",
    "The calculation of the matrix inverse for the analytic solution becomes complicated with increasing matrix dimension, there are many other methods can make things easier, such as Gaussian elimination, Newton’s method, Eigendecomposition and so on. We will introduce some of these methods after we learn how to solve a system of linear equations, because the process is essentially the same.\n",
    "\n",
    "Recall that 0 has no inverse for multiplication in the real-numbers setting. Similarly, there are matrices that do not have inverses. These matrices are called singular. Matrices that do have an inverse are called nonsingular.\n",
    "\n",
    "One way to determine if a matrix is singular is by computing its determinant. If the determinant is 0, then the matrix is singular; if not, the matrix is nonsingular."
   ]
  },
  {
   "cell_type": "markdown",
   "id": "3a260765-a42b-494f-9953-52454fe92a35",
   "metadata": {},
   "source": [
    "The matrix M (in the previous example) has a nonzero determinant. Compute the inverse of M. Show that the matrix P=[[0,1,0],[0,0,0],[1,0,1]] has a determinant value of 0 and therefore has no inverse."
   ]
  },
  {
   "cell_type": "code",
   "execution_count": 25,
   "id": "3b104753-5876-4f30-bd32-734c8eaef356",
   "metadata": {},
   "outputs": [
    {
     "name": "stdout",
     "output_type": "stream",
     "text": [
      "Inv M:\n",
      " [[-1.57894737 -0.07894737  1.23684211  1.10526316]\n",
      " [-0.63157895 -0.13157895  0.39473684  0.84210526]\n",
      " [ 0.68421053  0.18421053 -0.55263158 -0.57894737]\n",
      " [ 0.52631579  0.02631579 -0.07894737 -0.36842105]]\n",
      "det(p):\n",
      " 0.0\n"
     ]
    }
   ],
   "source": [
    "from numpy.linalg import inv\n",
    "\n",
    "print('Inv M:\\n', inv(M))\n",
    "P = np.array([[0,1,0],\n",
    "              [0,0,0],\n",
    "              [1,0,1]])\n",
    "print('det(p):\\n', det(P))"
   ]
  },
  {
   "cell_type": "markdown",
   "id": "6f6b81d8-eef0-49eb-b4b5-b5783759ab55",
   "metadata": {},
   "source": [
    "A matrix that is close to being singular (i.e., the determinant is close to 0) is called ill-conditioned. Although ill-conditioned matrices have inverses, they are problematic numerically in the same way that dividing a number by a very, very small number is problematic. That is, it can result in computations that result in overflow, underflow, or numbers small enough to result in significant round-off errors (If you forget these concepts, refresh yourself with materials in chapter 9). The condition number is a measure of how ill-conditioned a matrix is, and it can be computed using Numpy’s function cond from linalg. The higher the condition number, the closer the matrix is to being singular.\n",
    "\n",
    "The rank. of an m×n matrix A is the number of linearly independent columns or rows of A, and is denoted by rank(A). It can be shown that the number of linearly independent rows is always equal to the number of linearly independent columns for any matrix. A matrix is called full rank. if rank (A)=min(m,n). The matrix, A, is also full rank if all of its columns are linearly independent. An augmented matrix. is a matrix, A, concatenated with a vector, y, and is written [A,y]. This is commonly read “A augmented with y.” You can use np.concatenate to concatenate the them. If rank([A,y])=rank(A)+1, then the vector, y, is “new” information. That is, it cannot be created as a linear combination of the columns in A. The rank is an important property of matrices because of its relationship to solutions of linear equations, which is discussed in the last section of this chapter."
   ]
  },
  {
   "cell_type": "markdown",
   "id": "0140b550-53df-4d5c-9948-cb2675102e49",
   "metadata": {},
   "source": [
    "Matrix A=[[1,1,0],[0,1,0],[1,0,1]], compute the condition number and rank for this matrix. If y=[[1],[2],[1]], get the augmented matrix [A, y]."
   ]
  },
  {
   "cell_type": "code",
   "execution_count": 26,
   "id": "5db2e5b3-11d7-4078-8529-f7bbfc80c973",
   "metadata": {},
   "outputs": [
    {
     "name": "stdout",
     "output_type": "stream",
     "text": [
      "Condition number:\n",
      " 4.048917339522305\n",
      "Rank:\n",
      " 3\n",
      "Augmented matrix:\n",
      " [[1 1 0 1]\n",
      " [0 1 0 2]\n",
      " [1 0 1 1]]\n"
     ]
    }
   ],
   "source": [
    "from numpy.linalg import \\\n",
    "             cond, matrix_rank\n",
    "\n",
    "A = np.array([[1,1,0],\n",
    "              [0,1,0],\n",
    "              [1,0,1]])\n",
    "\n",
    "print('Condition number:\\n', cond(A))\n",
    "print('Rank:\\n', matrix_rank(A))\n",
    "y = np.array([[1], [2], [1]])\n",
    "A_y = np.concatenate((A, y), axis = 1)\n",
    "print('Augmented matrix:\\n', A_y)"
   ]
  },
  {
   "cell_type": "code",
   "execution_count": null,
   "id": "35858a4e-b00d-407e-9a7f-929480a56b5c",
   "metadata": {},
   "outputs": [],
   "source": []
  }
 ],
 "metadata": {
  "kernelspec": {
   "display_name": "Python 3 (ipykernel)",
   "language": "python",
   "name": "python3"
  },
  "language_info": {
   "codemirror_mode": {
    "name": "ipython",
    "version": 3
   },
   "file_extension": ".py",
   "mimetype": "text/x-python",
   "name": "python",
   "nbconvert_exporter": "python",
   "pygments_lexer": "ipython3",
   "version": "3.9.12"
  }
 },
 "nbformat": 4,
 "nbformat_minor": 5
}
